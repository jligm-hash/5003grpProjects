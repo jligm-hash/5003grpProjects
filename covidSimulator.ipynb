{
 "cells": [
  {
   "cell_type": "markdown",
   "metadata": {},
   "source": [
    "# Seudo code\n",
    "def initial():\n",
    "  agent -\n",
    "    susceptible\n",
    "      - 'vaccines'\n",
    "    state\n",
    "      (SEIR)\n",
    "\n",
    "  network\n",
    "    - full mixed\n",
    "    - structure, complex network - small world\n",
    "\n",
    "    - separation ~SEIR\n",
    "\n",
    "def simulate():\n",
    "  random walk ()\n",
    "  '''agent to agent ~ network, \n",
    "  infected? ~ distribution'''\n",
    "\n",
    "  stopFunction():\n",
    "  '''-1 stable\n",
    "  -2 set a time'''\n",
    "\n",
    "def output():\n",
    "  statistic()\n",
    "    - 3 curves\n",
    "    - people contact frequency\n",
    "\n",
    "initial()\n",
    "\n",
    "simulate()\n",
    "\n",
    "output()\n",
    "\n",
    "---"
   ]
  },
  {
   "cell_type": "code",
   "execution_count": 5,
   "metadata": {},
   "outputs": [],
   "source": [
    "import numpy as np\n",
    "import pandas as pd"
   ]
  },
  {
   "cell_type": "code",
   "execution_count": 6,
   "metadata": {},
   "outputs": [],
   "source": [
    "def initial(agentNum=1000):\n",
    "    # the default agentNum is 1000\n",
    "    \n",
    "    # try-except: catch error when agent number is illegal (e.g. not int, negative)\n",
    "    \n",
    "    infectedList = np.ones(agentNum)\n",
    "    susceptList = np.random.lognormal(mean=4.5, sigma=1.5, size=agentNum)\n",
    "    symptomList = np.random.lognormal(mean=1.1, sigma=0.9, size=agentNum)\n",
    "    \n",
    "    print(agentNum)\n",
    "    \n",
    "    return(infectedList, susceptList, symptomList)"
   ]
  },
  {
   "cell_type": "code",
   "execution_count": 11,
   "metadata": {},
   "outputs": [],
   "source": [
    "def initialNetwork():\n",
    "    myNetwork = []\n",
    "\n",
    "    print('This is the initialNetwork function')\n",
    "    # draw the network\n",
    "    return(myNetwork)"
   ]
  },
  {
   "cell_type": "code",
   "execution_count": 27,
   "metadata": {},
   "outputs": [],
   "source": [
    "def simulate(myNetwork = [], infectedList = [], \n",
    "             susceptList = [], symptomList = []):\n",
    "    \n",
    "    # try-except: check input\n",
    "    if sum([ 1 for i in [myNetwork, infectedList, susceptList, symptomList] if not i ]):\n",
    "        print('There are empty list in the input, please check')\n",
    "    \n",
    "    #\n",
    "    myTime = []\n",
    "    susRatio = []\n",
    "    exposeRatio = []\n",
    "    infecRatio = []\n",
    "    recoverRatio = []\n",
    "    interactionRatio = []\n",
    "    \n",
    "    print('This is the simulate function')\n",
    "    return(myTime, \n",
    "           susRatio, exposeRatio, infecRatio, recoverRatio,\n",
    "           interactionRatio)\n",
    "    "
   ]
  },
  {
   "cell_type": "code",
   "execution_count": 33,
   "metadata": {},
   "outputs": [],
   "source": [
    "def output(myTime=[], \n",
    "           susRatio=[], exposeRatio=[], infecRatio=[], recoverRatio=[],\n",
    "           interactionRatio=[]):\n",
    "    \n",
    "    if sum([ 1 for i in [myTime, susRatio, exposeRatio, infecRatio, recoverRatio, interactionRatio] if not i ]):\n",
    "        print('There are empty list in the input, please check')\n",
    "    \n",
    "    print('This is the output function')\n",
    "    # to draw some plot"
   ]
  },
  {
   "cell_type": "code",
   "execution_count": 9,
   "metadata": {},
   "outputs": [
    {
     "name": "stdout",
     "output_type": "stream",
     "text": [
      "10\n"
     ]
    },
    {
     "data": {
      "text/plain": [
       "(array([1., 1., 1., 1., 1., 1., 1., 1., 1., 1.]),\n",
       " array([459.49039206, 158.79003603, 444.02385987,  78.97374103,\n",
       "        879.58810342,  75.08740306, 212.88163172, 347.64678386,\n",
       "         99.73435572, 170.97807544]),\n",
       " array([ 1.66032609, 13.60940023,  2.59795831,  9.32772996,  7.96876338,\n",
       "         3.49884288,  5.93621325,  1.74233794,  2.09706125,  2.94760045]))"
      ]
     },
     "execution_count": 9,
     "metadata": {},
     "output_type": "execute_result"
    }
   ],
   "source": [
    "initial(agentNum = 10)"
   ]
  },
  {
   "cell_type": "code",
   "execution_count": 29,
   "metadata": {},
   "outputs": [
    {
     "name": "stdout",
     "output_type": "stream",
     "text": [
      "This is the initialNetwork function\n"
     ]
    },
    {
     "data": {
      "text/plain": [
       "[]"
      ]
     },
     "execution_count": 29,
     "metadata": {},
     "output_type": "execute_result"
    }
   ],
   "source": [
    "initialNetwork()"
   ]
  },
  {
   "cell_type": "code",
   "execution_count": 28,
   "metadata": {},
   "outputs": [
    {
     "name": "stdout",
     "output_type": "stream",
     "text": [
      "There are empty list in the input, please check\n",
      "This is the simulate function\n"
     ]
    },
    {
     "data": {
      "text/plain": [
       "([], [], [], [], [], [])"
      ]
     },
     "execution_count": 28,
     "metadata": {},
     "output_type": "execute_result"
    }
   ],
   "source": [
    "simulate()"
   ]
  },
  {
   "cell_type": "code",
   "execution_count": 26,
   "metadata": {},
   "outputs": [
    {
     "data": {
      "text/plain": [
       "0"
      ]
     },
     "execution_count": 26,
     "metadata": {},
     "output_type": "execute_result"
    }
   ],
   "source": [
    "sum([ 1 for i in [[1], [1], [1], [1]] if not i ])"
   ]
  },
  {
   "cell_type": "code",
   "execution_count": 31,
   "metadata": {},
   "outputs": [
    {
     "ename": "TypeError",
     "evalue": "output() missing 6 required positional arguments: 'myTime', 'susRatio', 'exposeRatio', 'infecRatio', 'recoverRatio', and 'interactionRatio'",
     "output_type": "error",
     "traceback": [
      "\u001b[0;31m---------------------------------------------------------------------------\u001b[0m",
      "\u001b[0;31mTypeError\u001b[0m                                 Traceback (most recent call last)",
      "\u001b[0;32m<ipython-input-31-81d8882b970a>\u001b[0m in \u001b[0;36m<module>\u001b[0;34m\u001b[0m\n\u001b[0;32m----> 1\u001b[0;31m \u001b[0moutput\u001b[0m\u001b[0;34m(\u001b[0m\u001b[0;34m)\u001b[0m\u001b[0;34m\u001b[0m\u001b[0;34m\u001b[0m\u001b[0m\n\u001b[0m",
      "\u001b[0;31mTypeError\u001b[0m: output() missing 6 required positional arguments: 'myTime', 'susRatio', 'exposeRatio', 'infecRatio', 'recoverRatio', and 'interactionRatio'"
     ]
    }
   ],
   "source": [
    "output()"
   ]
  },
  {
   "cell_type": "code",
   "execution_count": null,
   "metadata": {},
   "outputs": [],
   "source": []
  }
 ],
 "metadata": {
  "kernelspec": {
   "display_name": "Python 3",
   "language": "python",
   "name": "python3"
  },
  "language_info": {
   "codemirror_mode": {
    "name": "ipython",
    "version": 3
   },
   "file_extension": ".py",
   "mimetype": "text/x-python",
   "name": "python",
   "nbconvert_exporter": "python",
   "pygments_lexer": "ipython3",
   "version": "3.8.2"
  }
 },
 "nbformat": 4,
 "nbformat_minor": 4
}
