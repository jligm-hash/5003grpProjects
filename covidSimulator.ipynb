{
 "cells": [
  {
   "cell_type": "markdown",
   "metadata": {},
   "source": [
    "# Seudo code\n",
    "def initial():\n",
    "  agent -\n",
    "    susceptible\n",
    "      - 'vaccines'\n",
    "    state\n",
    "      (SEIR)\n",
    "\n",
    "  network\n",
    "    - full mixed\n",
    "    - structure, complex network - small world\n",
    "\n",
    "    - separation ~SEIR\n",
    "\n",
    "def simulate():\n",
    "  random walk ()\n",
    "  '''agent to agent ~ network, \n",
    "  infected? ~ distribution'''\n",
    "\n",
    "  stopFunction():\n",
    "  '''-1 stable\n",
    "  -2 set a time'''\n",
    "\n",
    "def output():\n",
    "  statistic()\n",
    "    - 3 curves\n",
    "    - people contact frequency\n",
    "\n",
    "initial()\n",
    "\n",
    "simulate()\n",
    "\n",
    "output()\n",
    "\n",
    "---"
   ]
  },
  {
   "cell_type": "code",
   "execution_count": 1,
   "metadata": {},
   "outputs": [],
   "source": [
    "import numpy as np\n",
    "import pandas as pd"
   ]
  },
  {
   "cell_type": "code",
   "execution_count": 2,
   "metadata": {},
   "outputs": [],
   "source": [
    "def initial(agentNum=1000):\n",
    "    # the default agentNum is 1000\n",
    "    \n",
    "    # try-except: catch error when agent number is illegal (e.g. not int, negative)\n",
    "    \n",
    "    infectedList = np.ones(agentNum)\n",
    "    susceptList = np.random.lognormal(mean=4.5, sigma=1.5, size=agentNum)\n",
    "    symptomList = np.random.lognormal(mean=1.1, sigma=0.9, size=agentNum)\n",
    "    \n",
    "    print(agentNum)\n",
    "    \n",
    "    return(infectedList, susceptList, symptomList)"
   ]
  },
  {
   "cell_type": "code",
   "execution_count": 3,
   "metadata": {},
   "outputs": [],
   "source": [
    "def initialNetwork():\n",
    "    myNetwork = []\n",
    "\n",
    "    print('This is the initialNetwork function')\n",
    "    # draw the network\n",
    "    return(myNetwork)"
   ]
  },
  {
   "cell_type": "code",
   "execution_count": 4,
   "metadata": {},
   "outputs": [],
   "source": [
    "def simulate(myNetwork = [], infectedList = [], \n",
    "             susceptList = [], symptomList = []):\n",
    "    \n",
    "    # try-except: check input\n",
    "    if sum([ 1 for i in [myNetwork, infectedList, susceptList, symptomList] if not i ]):\n",
    "        print('There are empty list in the input, please check')\n",
    "    \n",
    "    #\n",
    "    myTime = []\n",
    "    susRatio = []\n",
    "    exposeRatio = []\n",
    "    infecRatio = []\n",
    "    recoverRatio = []\n",
    "    interactionRatio = []\n",
    "    \n",
    "    print('This is the simulate function')\n",
    "    return(myTime, \n",
    "           susRatio, exposeRatio, infecRatio, recoverRatio,\n",
    "           interactionRatio)\n",
    "    "
   ]
  },
  {
   "cell_type": "code",
   "execution_count": 5,
   "metadata": {},
   "outputs": [],
   "source": [
    "def output(myTime=[], \n",
    "           susRatio=[], exposeRatio=[], infecRatio=[], recoverRatio=[],\n",
    "           interactionRatio=[]):\n",
    "    \n",
    "    if sum([ 1 for i in [myTime, susRatio, exposeRatio, infecRatio, recoverRatio, interactionRatio] if not i ]):\n",
    "        print('There are empty list in the input, please check')\n",
    "    \n",
    "    # demo data\n",
    "    myTime=[i for i in range(100)] \n",
    "    susRatio=[i/100 for i in range(100)]\n",
    "    exposeRatio=[i/100 for i in range(100)] \n",
    "    infecRatio=[i/100 for i in range(100)] \n",
    "    recoverRatio=[i/100 for i in range(100)] \n",
    "    interactionRatio=[i/100 for i in range(100)] \n",
    "    \n",
    "    print('This is the output function')\n",
    "    # to draw some plot"
   ]
  },
  {
   "cell_type": "code",
   "execution_count": 6,
   "metadata": {},
   "outputs": [
    {
     "name": "stdout",
     "output_type": "stream",
     "text": [
      "10\n"
     ]
    },
    {
     "data": {
      "text/plain": [
       "(array([1., 1., 1., 1., 1., 1., 1., 1., 1., 1.]),\n",
       " array([ 94.82741844, 130.04278713, 147.11605863,  93.69746156,\n",
       "         37.2550447 , 176.97276369, 596.46251409,  31.98766656,\n",
       "         22.32638126, 100.47937239]),\n",
       " array([ 2.87790115,  1.09344662,  2.16754671,  2.30419877,  1.67980765,\n",
       "         3.38876589,  5.11714197, 16.67525614,  1.42423565,  2.23735635]))"
      ]
     },
     "execution_count": 6,
     "metadata": {},
     "output_type": "execute_result"
    }
   ],
   "source": [
    "initial(agentNum = 10)"
   ]
  },
  {
   "cell_type": "code",
   "execution_count": 7,
   "metadata": {},
   "outputs": [
    {
     "name": "stdout",
     "output_type": "stream",
     "text": [
      "This is the initialNetwork function\n"
     ]
    },
    {
     "data": {
      "text/plain": [
       "[]"
      ]
     },
     "execution_count": 7,
     "metadata": {},
     "output_type": "execute_result"
    }
   ],
   "source": [
    "initialNetwork()"
   ]
  },
  {
   "cell_type": "code",
   "execution_count": 8,
   "metadata": {},
   "outputs": [
    {
     "name": "stdout",
     "output_type": "stream",
     "text": [
      "There are empty list in the input, please check\n",
      "This is the simulate function\n"
     ]
    },
    {
     "data": {
      "text/plain": [
       "([], [], [], [], [], [])"
      ]
     },
     "execution_count": 8,
     "metadata": {},
     "output_type": "execute_result"
    }
   ],
   "source": [
    "simulate()"
   ]
  },
  {
   "cell_type": "code",
   "execution_count": 9,
   "metadata": {},
   "outputs": [
    {
     "data": {
      "text/plain": [
       "0"
      ]
     },
     "execution_count": 9,
     "metadata": {},
     "output_type": "execute_result"
    }
   ],
   "source": [
    "sum([ 1 for i in [[1], [1], [1], [1]] if not i ])"
   ]
  },
  {
   "cell_type": "code",
   "execution_count": 10,
   "metadata": {},
   "outputs": [
    {
     "name": "stdout",
     "output_type": "stream",
     "text": [
      "There are empty list in the input, please check\n",
      "This is the output function\n"
     ]
    }
   ],
   "source": [
    "output()"
   ]
  },
  {
   "cell_type": "code",
   "execution_count": null,
   "metadata": {},
   "outputs": [],
   "source": []
  }
 ],
 "metadata": {
  "kernelspec": {
   "display_name": "Python 3 (ipykernel)",
   "language": "python",
   "name": "python3"
  },
  "language_info": {
   "codemirror_mode": {
    "name": "ipython",
    "version": 3
   },
   "file_extension": ".py",
   "mimetype": "text/x-python",
   "name": "python",
   "nbconvert_exporter": "python",
   "pygments_lexer": "ipython3",
   "version": "3.8.2"
  }
 },
 "nbformat": 4,
 "nbformat_minor": 4
}
