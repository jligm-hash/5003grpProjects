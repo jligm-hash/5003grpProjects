{
 "cells": [
  {
   "cell_type": "code",
   "execution_count": null,
   "id": "210a46e7",
   "metadata": {},
   "outputs": [],
   "source": [
    "import numpy as np\n",
    "import pandas as pd"
   ]
  },
  {
   "cell_type": "code",
   "execution_count": null,
   "id": "18b9fbd5",
   "metadata": {},
   "outputs": [],
   "source": [
    "infectedList = np.zeros(agentNum)\n",
    "\n",
    "# SEIR model\n",
    "susceptState = np.zeros(agentNum)\n",
    "exposedState = np.zeros(agentNum)\n",
    "infectState = np.zeros(agentNum)\n",
    "\n",
    "\n",
    "susceptList = np.random.lognormal(mean=4.5, sigma=1.5, size=agentNum)\n",
    "symptomList = np.random.lognormal(mean=1.1, sigma=0.9, size=agentNum)"
   ]
  },
  {
   "cell_type": "code",
   "execution_count": null,
   "id": "1af9531e",
   "metadata": {},
   "outputs": [],
   "source": []
  },
  {
   "cell_type": "code",
   "execution_count": null,
   "id": "e7a2c5b7",
   "metadata": {},
   "outputs": [],
   "source": [
    "    myTime=[i for i in range(100)] \n",
    "    susRatio=[i/100 for i in range(100)]\n",
    "    exposeRatio=[i/100 for i in range(100)] \n",
    "    infecRatio=[i/100 for i in range(100)] \n",
    "    recoverRatio=[i/100 for i in range(100)] \n",
    "    interactionRatio=[i/100 for i in range(100)] "
   ]
  },
  {
   "cell_type": "code",
   "execution_count": null,
   "id": "ce4d81ba",
   "metadata": {},
   "outputs": [],
   "source": []
  }
 ],
 "metadata": {
  "kernelspec": {
   "display_name": "Python 3 (ipykernel)",
   "language": "python",
   "name": "python3"
  }
 },
 "nbformat": 4,
 "nbformat_minor": 5
}
