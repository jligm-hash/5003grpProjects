{
 "cells": [
  {
   "cell_type": "code",
   "execution_count": 19,
   "id": "c0635559",
   "metadata": {},
   "outputs": [],
   "source": [
    "# from scipy.integrate import odeint\n",
    "# from ipywidgets import interact,IntSlider,FloatSlider\n",
    "import numpy as np\n",
    "import pandas as pd\n",
    "import matplotlib.pyplot as plt\n",
    "import os"
   ]
  },
  {
   "cell_type": "code",
   "execution_count": 17,
   "id": "08bf88a9",
   "metadata": {},
   "outputs": [
    {
     "ename": "NameError",
     "evalue": "name 'simulate' is not defined",
     "output_type": "error",
     "traceback": [
      "\u001b[1;31m---------------------------------------------------------------------------\u001b[0m",
      "\u001b[1;31mNameError\u001b[0m                                 Traceback (most recent call last)",
      "\u001b[1;32m<ipython-input-17-ad1de59d0fb1>\u001b[0m in \u001b[0;36m<module>\u001b[1;34m\u001b[0m\n\u001b[1;32m----> 1\u001b[1;33m \u001b[0msol\u001b[0m \u001b[1;33m=\u001b[0m \u001b[0msimulate\u001b[0m\u001b[1;33m(\u001b[0m\u001b[0mmyNetwork\u001b[0m \u001b[1;33m=\u001b[0m \u001b[1;33m[\u001b[0m\u001b[1;33m]\u001b[0m\u001b[1;33m,\u001b[0m \u001b[0minfectedList\u001b[0m \u001b[1;33m=\u001b[0m \u001b[1;33m[\u001b[0m\u001b[1;33m]\u001b[0m\u001b[1;33m,\u001b[0m\u001b[0msusceptList\u001b[0m \u001b[1;33m=\u001b[0m \u001b[1;33m[\u001b[0m\u001b[1;33m]\u001b[0m\u001b[1;33m,\u001b[0m \u001b[0msymptomList\u001b[0m \u001b[1;33m=\u001b[0m \u001b[1;33m[\u001b[0m\u001b[1;33m]\u001b[0m\u001b[1;33m)\u001b[0m\u001b[1;33m\u001b[0m\u001b[1;33m\u001b[0m\u001b[0m\n\u001b[0m\u001b[0;32m      2\u001b[0m \u001b[0mmyTime\u001b[0m \u001b[1;33m=\u001b[0m \u001b[0msol\u001b[0m\u001b[1;33m[\u001b[0m\u001b[1;36m0\u001b[0m\u001b[1;33m]\u001b[0m\u001b[1;33m\u001b[0m\u001b[1;33m\u001b[0m\u001b[0m\n\u001b[0;32m      3\u001b[0m \u001b[0msusRatio\u001b[0m \u001b[1;33m=\u001b[0m \u001b[0msol\u001b[0m\u001b[1;33m[\u001b[0m\u001b[1;36m1\u001b[0m\u001b[1;33m]\u001b[0m\u001b[1;33m\u001b[0m\u001b[1;33m\u001b[0m\u001b[0m\n\u001b[0;32m      4\u001b[0m \u001b[0mexposeRatio\u001b[0m \u001b[1;33m=\u001b[0m \u001b[0msol\u001b[0m\u001b[1;33m[\u001b[0m\u001b[1;36m2\u001b[0m\u001b[1;33m]\u001b[0m\u001b[1;33m\u001b[0m\u001b[1;33m\u001b[0m\u001b[0m\n\u001b[0;32m      5\u001b[0m \u001b[0minfecRatio\u001b[0m \u001b[1;33m=\u001b[0m \u001b[0msol\u001b[0m\u001b[1;33m[\u001b[0m\u001b[1;36m3\u001b[0m\u001b[1;33m]\u001b[0m\u001b[1;33m\u001b[0m\u001b[1;33m\u001b[0m\u001b[0m\n",
      "\u001b[1;31mNameError\u001b[0m: name 'simulate' is not defined"
     ]
    }
   ],
   "source": [
    "sol = simulate(myNetwork = [], infectedList = [],susceptList = [], symptomList = [])\n",
    "myTime = sol[0]\n",
    "susRatio = sol[1]\n",
    "exposeRatio = sol[2]\n",
    "infecRatio = sol[3]\n",
    "recoverRatio = sol[4]\n",
    "interactionRatio = sol[5]"
   ]
  },
  {
   "cell_type": "code",
   "execution_count": 3,
   "id": "05aad34e",
   "metadata": {},
   "outputs": [],
   "source": [
    "# def ode_model(z, t, beta, sigma, gamma):\n",
    "#     S, E, I, R = z\n",
    "#     N = S + E + I + R\n",
    "#     dSdt = -beta*S*I/N\n",
    "#     dEdt = beta*S*I/N - sigma*E\n",
    "#     dIdt = sigma*E - gamma*I\n",
    "#     dRdt = gamma*I\n",
    "#     return [dSdt, dEdt, dIdt, dRdt]"
   ]
  },
  {
   "cell_type": "code",
   "execution_count": 4,
   "id": "b9f77010",
   "metadata": {},
   "outputs": [],
   "source": [
    "# def ode_solver(t, initial_conditions, params):\n",
    "#     initE, initI, initR, initN = initial_conditions\n",
    "#     beta, sigma, gamma = params\n",
    "#     initS = initN - (initE + initI + initR)\n",
    "#     res = odeint(ode_model, [initS, initE, initI, initR], t, args=(beta, sigma, gamma))\n",
    "#     return res"
   ]
  },
  {
   "cell_type": "code",
   "execution_count": 18,
   "id": "0ab0d29b",
   "metadata": {},
   "outputs": [],
   "source": [
    "def graph_(myTime,sol):\n",
    "    S, E, I, R = sol[1], sol[2], sol[3], sol[4]\n",
    "    fig = go.Figure()\n",
    "    fig.add_trace(go.Scatter(x=myTime, y=S, mode='lines+markers', name='Susceptible'))\n",
    "    fig.add_trace(go.Scatter(x=myTime, y=E, mode='lines+markers', name='Exposed'))\n",
    "    fig.add_trace(go.Scatter(x=myTime, y=I, mode='lines+markers', name='Infected'))\n",
    "    fig.add_trace(go.Scatter(x=myTime, y=R, mode='lines+markers',name='Recovered'))\n",
    "    \n",
    "    if days <= 30:\n",
    "        step = 1\n",
    "    elif days <= 90:\n",
    "        step = 7\n",
    "    else:\n",
    "        step = 30\n",
    "    # Edit the layout\n",
    "    fig.update_layout(title='Simulation of SEIR Model',xaxis_title='Day',\n",
    "                      yaxis_title='Counts',title_x=0.5,width=900, height=600)\n",
    "    fig.update_xaxes(tickangle=-90, tickformat = None, tickmode='array', tickvals=np.arange(0, days + 1, step))\n",
    "    if not os.path.exists(\"images\"):\n",
    "        os.mkdir(\"images\")\n",
    "    fig.write_image(\"images/seir_simulation.png\")\n",
    "    fig.show()"
   ]
  },
  {
   "cell_type": "code",
   "execution_count": 5,
   "id": "bc275f01",
   "metadata": {},
   "outputs": [],
   "source": [
    "# def main(initE, initI, initR, initN, beta, sigma, gamma, days):\n",
    "#     initial_conditions = [initE, initI, initR, initN]\n",
    "#     params = [beta, sigma, gamma]\n",
    "#     tspan = np.arange(0, days, 1)\n",
    "#     sol = ode_solver(tspan, initial_conditions, params)\n",
    "#     S, E, I, R = sol[:, 0], sol[:, 1], sol[:, 2], sol[:, 3]\n",
    "    \n",
    "#     # Create traces\n",
    "#     fig = go.Figure()\n",
    "#     fig.add_trace(go.Scatter(x=tspan, y=S, mode='lines+markers', name='Susceptible'))\n",
    "#     fig.add_trace(go.Scatter(x=tspan, y=E, mode='lines+markers', name='Exposed'))\n",
    "#     fig.add_trace(go.Scatter(x=tspan, y=I, mode='lines+markers', name='Infected'))\n",
    "#     fig.add_trace(go.Scatter(x=tspan, y=R, mode='lines+markers',name='Recovered'))\n",
    "    \n",
    "#     if days <= 30:\n",
    "#         step = 1\n",
    "#     elif days <= 90:\n",
    "#         step = 7\n",
    "#     else:\n",
    "#         step = 30\n",
    "    \n",
    "#     # Edit the layout\n",
    "#     fig.update_layout(title='Simulation of SEIR Model',\n",
    "#                        xaxis_title='Day',\n",
    "#                        yaxis_title='Counts',\n",
    "#                        title_x=0.5,\n",
    "#                       width=900, height=600\n",
    "#                      )\n",
    "#     fig.update_xaxes(tickangle=-90, tickformat = None, tickmode='array', tickvals=np.arange(0, days + 1, step))\n",
    "#     if not os.path.exists(\"images\"):\n",
    "#         os.mkdir(\"images\")\n",
    "#     fig.write_image(\"images/seir_simulation.png\")\n",
    "#     fig.show()"
   ]
  },
  {
   "cell_type": "code",
   "execution_count": 15,
   "id": "8dd60555",
   "metadata": {},
   "outputs": [],
   "source": [
    "# interact(main, initE=IntSlider(min=0, max=100000, step=1, value=initE, description='initE', style=style, layout=slider_layout),\n",
    "#                initI=IntSlider(min=0, max=100000, step=10, value=initI, description='initI', style=style, layout=slider_layout),\n",
    "#                initR=IntSlider(min=0, max=100000, step=10, value=initR, description='initR', style=style, layout=slider_layout),\n",
    "#                initN=IntSlider(min=0, max=1380000000, step=1000, value=initN, description='initN', style=style, layout=slider_layout),\n",
    "#                beta=FloatSlider(min=0, max=4, step=0.01, value=beta, description='Infection rate', style=style, layout=slider_layout),\n",
    "#                sigma=FloatSlider(min=0, max=4, step=0.01, value=sigma, description='Incubation rate', style=style, layout=slider_layout),\n",
    "#                gamma=FloatSlider(min=0, max=4, step=0.01, value=gamma, description='Recovery rate', style=style, layout=slider_layout),\n",
    "#                days=IntSlider(min=1, max=600, step=7, value=days, description='Days', style=style, layout=slider_layout)\n",
    "#         );"
   ]
  },
  {
   "cell_type": "code",
   "execution_count": null,
   "id": "3a8660f8",
   "metadata": {},
   "outputs": [],
   "source": []
  }
 ],
 "metadata": {
  "kernelspec": {
   "display_name": "Python 3",
   "language": "python",
   "name": "python3"
  },
  "language_info": {
   "codemirror_mode": {
    "name": "ipython",
    "version": 3
   },
   "file_extension": ".py",
   "mimetype": "text/x-python",
   "name": "python",
   "nbconvert_exporter": "python",
   "pygments_lexer": "ipython3",
   "version": "3.8.8"
  }
 },
 "nbformat": 4,
 "nbformat_minor": 5
}
