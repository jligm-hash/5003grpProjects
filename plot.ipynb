{
 "cells": [
  {
   "cell_type": "code",
   "execution_count": null,
   "id": "8e19cf5f",
   "metadata": {},
   "outputs": [],
   "source": [
    "import matplotlib.pyplot as plt\n",
    "from matplotlib import style\n",
    "\n",
    "t = \n",
    "cum_infec=\n",
    "num_infec=\n",
    "cum_diag=\n",
    "\n",
    "plt.plot(t,cum_infec,'red',label='Cumulative infections')\n",
    "plt.plot(t,cum_infec,'orange',label='Num infections')\n",
    "plt.plot(t,cum_infec,'blue',label='Cumulative diagnoses')\n",
    "plt.legend(loc='upper right')\n",
    "plt.title('Total Counts',fontsize=20)\n",
    "\n",
    "#add the description for x axis\n",
    "plt.xlabel('time',fontsize=15)\n",
    "#add the description for y axis\n",
    "plt.ylabel('Count',fontsize=15)\n",
    "\n",
    "plt.xticks(t,fontsize=10)\n",
    "plt.yticks(cum_infec,fontsize=10)\n",
    "plt.yticks([],[])"
   ]
  }
 ],
 "metadata": {
  "kernelspec": {
   "display_name": "Python 3",
   "language": "python",
   "name": "python3"
  },
  "language_info": {
   "codemirror_mode": {
    "name": "ipython",
    "version": 3
   },
   "file_extension": ".py",
   "mimetype": "text/x-python",
   "name": "python",
   "nbconvert_exporter": "python",
   "pygments_lexer": "ipython3",
   "version": "3.8.8"
  }
 },
 "nbformat": 4,
 "nbformat_minor": 5
}
